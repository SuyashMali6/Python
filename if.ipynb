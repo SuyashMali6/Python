{
  "nbformat": 4,
  "nbformat_minor": 0,
  "metadata": {
    "colab": {
      "provenance": [],
      "authorship_tag": "ABX9TyPSPca3qzUUI67r1TecTqnX",
      "include_colab_link": true
    },
    "kernelspec": {
      "name": "python3",
      "display_name": "Python 3"
    },
    "language_info": {
      "name": "python"
    }
  },
  "cells": [
    {
      "cell_type": "markdown",
      "metadata": {
        "id": "view-in-github",
        "colab_type": "text"
      },
      "source": [
        "<a href=\"https://colab.research.google.com/github/SuyashMali6/Python/blob/main/if.ipynb\" target=\"_parent\"><img src=\"https://colab.research.google.com/assets/colab-badge.svg\" alt=\"Open In Colab\"/></a>"
      ]
    },
    {
      "cell_type": "code",
      "source": [
        "num=input(\"Enter a number: \")\n",
        "num=int(num)\n",
        "if num%2==0:\n",
        "  print(\"Number is even\")\n",
        "else:\n",
        "  print(\"Number is odd\")"
      ],
      "metadata": {
        "colab": {
          "base_uri": "https://localhost:8080/"
        },
        "id": "8UR_v1eN09qI",
        "outputId": "bf93db31-c017-4b88-8f31-1e5de9eb2e3f"
      },
      "execution_count": null,
      "outputs": [
        {
          "output_type": "stream",
          "name": "stdout",
          "text": [
            "Enter a number: 1159\n",
            "Number is odd\n"
          ]
        }
      ]
    },
    {
      "cell_type": "code",
      "source": [
        "num=input(\"Enter a number : \")\n",
        "num=int(num)\n",
        "if num%11==0:\n",
        "  print(\"Happy\")\n",
        "else:\n",
        "  print(\"Yeh kya doglapan hain?\")"
      ],
      "metadata": {
        "colab": {
          "base_uri": "https://localhost:8080/"
        },
        "id": "MZZob7tt7nvZ",
        "outputId": "45ecf9b4-30f6-4c47-953f-dcea3a8223e3"
      },
      "execution_count": null,
      "outputs": [
        {
          "output_type": "stream",
          "name": "stdout",
          "text": [
            "Enter a number : 1928734655\n",
            "Yeh kya doglapan hain?\n"
          ]
        }
      ]
    },
    {
      "cell_type": "code",
      "source": [
        "Year=input(\"Enter the year : \")\n",
        "year=int(Year)\n",
        "if (year==1983 or year==2011):\n",
        "  print(\"India won the world cup in\",year)\n",
        "elif (year==1987 or year==1999 or year==2003 or year==2007 or year==2015):\n",
        "  print(\"Australia won the world cup in\",year)\n",
        "elif year==1975:\n",
        "  print(\"West Indies won the first ever world cup in\",year)\n"
      ],
      "metadata": {
        "id": "M-DZdc1g8OJp"
      },
      "execution_count": null,
      "outputs": []
    }
  ]
}